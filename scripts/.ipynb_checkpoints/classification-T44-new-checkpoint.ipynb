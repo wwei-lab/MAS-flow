{
 "cells": [
  {
   "cell_type": "code",
   "execution_count": 2,
   "id": "fabb5e33",
   "metadata": {},
   "outputs": [
    {
     "name": "stderr",
     "output_type": "stream",
     "text": [
      "\n",
      "Attaching package: ‘igraph’\n",
      "\n",
      "\n",
      "The following objects are masked from ‘package:stats’:\n",
      "\n",
      "    decompose, spectrum\n",
      "\n",
      "\n",
      "The following object is masked from ‘package:base’:\n",
      "\n",
      "    union\n",
      "\n",
      "\n",
      "\n",
      "Attaching package: ‘dplyr’\n",
      "\n",
      "\n",
      "The following objects are masked from ‘package:igraph’:\n",
      "\n",
      "    as_data_frame, groups, union\n",
      "\n",
      "\n",
      "The following objects are masked from ‘package:stats’:\n",
      "\n",
      "    filter, lag\n",
      "\n",
      "\n",
      "The following objects are masked from ‘package:base’:\n",
      "\n",
      "    intersect, setdiff, setequal, union\n",
      "\n",
      "\n",
      "Warning message:\n",
      "“package ‘randomcoloR’ was built under R version 4.2.3”\n",
      "Loading required package: BiocGenerics\n",
      "\n",
      "\n",
      "Attaching package: ‘BiocGenerics’\n",
      "\n",
      "\n",
      "The following objects are masked from ‘package:dplyr’:\n",
      "\n",
      "    combine, intersect, setdiff, union\n",
      "\n",
      "\n",
      "The following objects are masked from ‘package:igraph’:\n",
      "\n",
      "    normalize, path, union\n",
      "\n",
      "\n",
      "The following objects are masked from ‘package:stats’:\n",
      "\n",
      "    IQR, mad, sd, var, xtabs\n",
      "\n",
      "\n",
      "The following objects are masked from ‘package:base’:\n",
      "\n",
      "    anyDuplicated, aperm, append, as.data.frame, basename, cbind,\n",
      "    colnames, dirname, do.call, duplicated, eval, evalq, Filter, Find,\n",
      "    get, grep, grepl, intersect, is.unsorted, lapply, Map, mapply,\n",
      "    match, mget, order, paste, pmax, pmax.int, pmin, pmin.int,\n",
      "    Position, rank, rbind, Reduce, rownames, sapply, setdiff, sort,\n",
      "    table, tapply, union, unique, unsplit, which.max, which.min\n",
      "\n",
      "\n",
      "Loading required package: S4Vectors\n",
      "\n",
      "Loading required package: stats4\n",
      "\n",
      "\n",
      "Attaching package: ‘S4Vectors’\n",
      "\n",
      "\n",
      "The following objects are masked from ‘package:dplyr’:\n",
      "\n",
      "    first, rename\n",
      "\n",
      "\n",
      "The following objects are masked from ‘package:base’:\n",
      "\n",
      "    expand.grid, I, unname\n",
      "\n",
      "\n",
      "Loading required package: IRanges\n",
      "\n",
      "\n",
      "Attaching package: ‘IRanges’\n",
      "\n",
      "\n",
      "The following objects are masked from ‘package:dplyr’:\n",
      "\n",
      "    collapse, desc, slice\n",
      "\n",
      "\n",
      "Loading required package: XVector\n",
      "\n",
      "Loading required package: GenomeInfoDb\n",
      "\n",
      "\n",
      "Attaching package: ‘Biostrings’\n",
      "\n",
      "\n",
      "The following object is masked from ‘package:base’:\n",
      "\n",
      "    strsplit\n",
      "\n",
      "\n"
     ]
    }
   ],
   "source": [
    "library(igraph)\n",
    "library(dplyr)\n",
    "library(parallel)\n",
    "library(stringr)\n",
    "library(randomcoloR)\n",
    "library(ggplot2)\n",
    "library(Biostrings)"
   ]
  },
  {
   "cell_type": "code",
   "execution_count": 1,
   "id": "9d9cdf03",
   "metadata": {},
   "outputs": [],
   "source": [
    "tsv = read.table(\"../data/T47_MAS_SEQ_20240104/edlibR/adapter.list.T47.mismatch2.df.tsv\")"
   ]
  },
  {
   "cell_type": "code",
   "execution_count": 3,
   "id": "73abcccb",
   "metadata": {},
   "outputs": [],
   "source": [
    "colnames(tsv) = c(\"start\",\"end\",\"width\",\"type\",\"fqname\")"
   ]
  },
  {
   "cell_type": "code",
   "execution_count": null,
   "id": "55125938",
   "metadata": {},
   "outputs": [],
   "source": [
    "sci_fq_T47 = readDNAStringSet(\"../fastq/T47_MAS_SEQ_20240104.fastq.gz\",format = \"fastq\")"
   ]
  },
  {
   "cell_type": "code",
   "execution_count": null,
   "id": "640671f1",
   "metadata": {},
   "outputs": [],
   "source": [
    "fqnames = read.table(\"../fastq/T47_MAS_SEQ_20240104.fq.names\")"
   ]
  },
  {
   "cell_type": "code",
   "execution_count": null,
   "id": "39104cba",
   "metadata": {},
   "outputs": [],
   "source": [
    "plot_adapter_num = function(df,title){\n",
    "    set.seed(43)\n",
    "    palette <- distinctColorPalette(450)\n",
    "    adapter.list.edlibR.mismatch.count = df %>% group_by(fqname) %>% summarise(adapter_count = n())\n",
    "    df2 = df %>% group_by(fqname) %>%\n",
    "        summarise(adapter_chain = paste(type,collapse = \",\"))\n",
    "    df2$classification = unlist(lapply(df2$adapter_chain,classify_read))\n",
    "    adapter.list.edlibR.mismatch.count.table = data.frame(table(adapter.list.edlibR.mismatch.count$adapter_count,df2$classification))\n",
    "    colnames(adapter.list.edlibR.mismatch.count.table) = c(\"adapter_count\",\"adapter_classification\",\"count\")\n",
    "    adapter.list.edlibR.mismatch.count.table = adapter.list.edlibR.mismatch.count.table %>% arrange(adapter_classification)\n",
    "    names(palette) = all.classification\n",
    "    ggplot(adapter.list.edlibR.mismatch.count.table, aes(fill=adapter_classification, y=count, x=adapter_count)) + \n",
    "        geom_bar(position=\"stack\", stat=\"identity\") + scale_fill_manual(values = palette) +\n",
    "    theme_bw() + guides(fill=guide_legend(ncol=2)) + ggtitle(title)\n",
    "}\n",
    "\n",
    "adapter_num = function(df){\n",
    "    adapter.list.edlibR.mismatch.count = df %>% group_by(fqname) %>% summarise(adapter_count = n())\n",
    "    df2 = df %>% group_by(fqname) %>%\n",
    "        summarise(adapter_chain = paste(type,collapse = \",\"))\n",
    "    df2$classification = unlist(mclapply(df2$adapter_chain,classify_read,mc.cores = 80))\n",
    "    return(df2)\n",
    "}\n",
    "\n",
    "order_suffix = function(x){\n",
    "    paste(sort(str_split(x,pattern = \"-\")[[1]]),collapse  = \"-\")\n",
    "}\n",
    "\n",
    "classify_read = function(adapter_chain,adapters_graph = adapter_graph){\n",
    "    adapters = str_split(adapter_chain,pattern = \",\")[[1]]\n",
    "    all.forward = all(!grepl(adapters,pattern = \"*rc$\"))\n",
    "    all.reverse = all(grepl(adapters,pattern = \"*rc$\"))\n",
    "    #This no.rc means that the read has no palindrome sequence.\n",
    "    rc_mix = !(all.forward | all.reverse)\n",
    "    forward.index = which(!grepl(adapters,pattern = \"*rc$\"))\n",
    "    reverse.index = grep(adapters,pattern = \"*rc$\")\n",
    "\n",
    "    rc_mix = ifelse(rc_mix,ifelse(all(diff(forward.index)==1) & all(diff(reverse.index)==1),\"RC-successive\",\"RC-mosaic\"),\"No-RC\")\n",
    "    forward.adapters = adapters[forward.index]\n",
    "    reverse.adapters = adapters[reverse.index]\n",
    "    \n",
    "    if((length(forward.adapters)+length(reverse.adapters))>1){\n",
    "        if(length(forward.adapters) == 1 & length(reverse.adapters) == 1){\n",
    "            suffix = \"Singleton-Singleton\"\n",
    "        }else if(length(forward.adapters) <= 1){\n",
    "            reverse.adapters = data.frame(from = reverse.adapters[1:(length(reverse.adapters)-1)],\n",
    "                                      to = reverse.adapters[2:length(reverse.adapters)])\n",
    "            reverse.dist = apply(reverse.adapters,1,function(reverse.adapter){\n",
    "                test_paths(adapters_graph,reverse.adapter[1],reverse.adapter[2])\n",
    "            })\n",
    "            reverse.adapter_sequence = ifelse(any(is.infinite(reverse.dist)),\"Wrong direction\",ifelse(all(reverse.dist==1),\"Successive\",\"Jump\"))\n",
    "            forward.adapter_sequence = ifelse(length(forward.adapters)==0,\"NA\",\"Singleton\")\n",
    "            suffix = paste(forward.adapter_sequence,reverse.adapter_sequence,sep = \"-\")\n",
    "            suffix = order_suffix(suffix)\n",
    "        }else if(length(reverse.adapters) <= 1){\n",
    "            forward.adapters = data.frame(from = forward.adapters[1:(length(forward.adapters)-1)],\n",
    "                                  to = forward.adapters[2:length(forward.adapters)])\n",
    "            forward.dist = apply(forward.adapters,1,function(forward.adapter){\n",
    "                test_paths(adapters_graph,forward.adapter[1],forward.adapter[2])\n",
    "            })\n",
    "            reverse.adapter_sequence = ifelse(length(reverse.adapters)==0,\"NA\",\"Singleton\")\n",
    "            forward.adapter_sequence = ifelse(any(is.infinite(forward.dist)),\"Wrong direction\",ifelse(all(forward.dist==1),\"Successive\",\"Jump\"))\n",
    "            suffix = paste(forward.adapter_sequence,reverse.adapter_sequence,sep = \"-\")\n",
    "            suffix = order_suffix(suffix)\n",
    "        }else{\n",
    "            forward.adapters = data.frame(from = forward.adapters[1:(length(forward.adapters)-1)],\n",
    "                                  to = forward.adapters[2:length(forward.adapters)])\n",
    "            forward.dist = apply(forward.adapters,1,function(forward.adapter){\n",
    "                test_paths(adapters_graph,forward.adapter[1],forward.adapter[2])\n",
    "            })\n",
    "\n",
    "            reverse.adapters = data.frame(from = reverse.adapters[1:(length(reverse.adapters)-1)],\n",
    "                                      to = reverse.adapters[2:length(reverse.adapters)])\n",
    "            reverse.dist = apply(reverse.adapters,1,function(reverse.adapter){\n",
    "                test_paths(adapters_graph,reverse.adapter[1],reverse.adapter[2])\n",
    "            })\n",
    "            forward.adapter_sequence = ifelse(any(is.infinite(forward.dist)),\"Wrong direction\",ifelse(all(forward.dist==1),\"Successive\",\"Jump\"))\n",
    "            reverse.adapter_sequence = ifelse(any(is.infinite(reverse.dist)),\"Wrong direction\",ifelse(all(reverse.dist==1),\"Successive\",\"Jump\"))\n",
    "            suffix = paste(forward.adapter_sequence,reverse.adapter_sequence,sep = \"-\")\n",
    "            suffix = order_suffix(suffix)\n",
    "        }\n",
    "        final = paste(rc_mix,suffix,sep = \";\")\n",
    "    }else{\n",
    "        final = \"Singleton\"\n",
    "    }\n",
    "}\n",
    "\n",
    "test_paths <- function(g, from, to){\n",
    "    ifelse(is.finite(c(shortest.paths(g, from,to,mode = \"out\"))),c(shortest.paths(g, from,  to,mode = \"out\")),Inf)\n",
    "}\n",
    "\n",
    "adapters = c(paste(\"adapter\",LETTERS[1:16],sep  = \"\"),paste(\"adapter\",LETTERS[1:16],\".rc\",sep  = \"\"))\n",
    "\n",
    "links = data.frame(from = adapters[1:15],to = adapters[2:16])\n",
    "\n",
    "links2 = data.frame(from = adapters[18:32],to = adapters[17:31])\n",
    "\n",
    "links = rbind(links,links2)\n",
    "\n",
    "adapter_graph = graph_from_data_frame(links,directed = T)"
   ]
  },
  {
   "cell_type": "code",
   "execution_count": null,
   "id": "b1f3d383",
   "metadata": {},
   "outputs": [],
   "source": [
    "T47_new_adapter = adapter_num(tsv)"
   ]
  },
  {
   "cell_type": "code",
   "execution_count": null,
   "id": "61eb62ef",
   "metadata": {},
   "outputs": [],
   "source": [
    "T47_new_adapter.count = tsv %>% group_by(fqname) %>% summarise(adapter_count = n())"
   ]
  },
  {
   "cell_type": "code",
   "execution_count": null,
   "id": "e2f67121",
   "metadata": {},
   "outputs": [],
   "source": [
    "#classification definition\n",
    "suffix = expand.grid(c(\"Wrong direction\",\"Successive\",\"Jump\",\"NA\",\"Singleton\"),c(\"Wrong direction\",\"Successive\",\"Singleton\",\"Jump\",\"NA\"))%>%\n",
    "filter(!(Var1 == \"NA\" & Var2 == \"NA\")) %>% apply(.,1,function(x){paste(x[1],x[2],sep = \"-\")})\n",
    "prefix = c(\"RC-successive\",\"RC-mosaic\",\"No-RC\")\n",
    "all.classification = c(expand.grid(prefix,suffix)%>% apply(.,1,function(x){paste(x[1],x[2],sep = \";\")}),\"Singleton\")"
   ]
  },
  {
   "cell_type": "code",
   "execution_count": null,
   "id": "edec7925",
   "metadata": {},
   "outputs": [],
   "source": [
    "set.seed(43)\n",
    "palette <- distinctColorPalette(100)"
   ]
  },
  {
   "cell_type": "code",
   "execution_count": null,
   "id": "381b141e",
   "metadata": {},
   "outputs": [],
   "source": [
    "T47_new_adapter.count.table = data.frame(table(T47_new_adapter.count$adapter_count,T47_new_adapter$classification))\n",
    "colnames(T47_new_adapter.count.table) = c(\"adapter_count\",\"adapter_classification\",\"count\")\n",
    "T47_new_adapter.count.table = T47_new_adapter.count.table %>% arrange(adapter_classification)\n",
    "names(palette) = all.classification\n",
    "T47_new_adapter.count.table = T47_new_adapter.count.table %>% filter(adapter_count %in% 1:30)"
   ]
  },
  {
   "cell_type": "code",
   "execution_count": null,
   "id": "0165ef6b",
   "metadata": {},
   "outputs": [],
   "source": [
    "options(repr.plot.height = 10,repr.plot.width = 20)\n",
    "ggplot(T47_new_adapter.count.table, aes(fill=adapter_classification, y=count, x=adapter_count)) + \n",
    "    geom_bar(position=\"stack\", stat=\"identity\") + scale_fill_manual(values = palette) +\n",
    "theme_bw() + guides(fill=guide_legend(ncol=2)) + ggtitle(\"Mismatch2\")"
   ]
  },
  {
   "cell_type": "code",
   "execution_count": null,
   "id": "a4407fb9",
   "metadata": {},
   "outputs": [],
   "source": [
    "T47_new_adapter.count.table %>% mutate(type = ifelse(adapter_count %in% 1:6,\"short\",\"long\"))%>% group_by(type) %>% summarise(count = sum(count))"
   ]
  },
  {
   "cell_type": "code",
   "execution_count": null,
   "id": "e6327148",
   "metadata": {},
   "outputs": [],
   "source": [
    "T47_new_adapter.count.table %>% filter(grepl(adapter_classification,pattern = \"mosaic\")) %>% \n",
    "mutate(type = ifelse(adapter_count %in% 1:6,\"short\",\"long\")) %>% group_by(type) %>% summarise(count = sum(count))"
   ]
  },
  {
   "cell_type": "code",
   "execution_count": 107,
   "id": "6ab22b57",
   "metadata": {},
   "outputs": [
    {
     "data": {
      "text/html": [
       "0.17915308721003"
      ],
      "text/latex": [
       "0.17915308721003"
      ],
      "text/markdown": [
       "0.17915308721003"
      ],
      "text/plain": [
       "[1] 0.1791531"
      ]
     },
     "metadata": {},
     "output_type": "display_data"
    },
    {
     "data": {
      "text/html": [
       "0.0762555403520947"
      ],
      "text/latex": [
       "0.0762555403520947"
      ],
      "text/markdown": [
       "0.0762555403520947"
      ],
      "text/plain": [
       "[1] 0.07625554"
      ]
     },
     "metadata": {},
     "output_type": "display_data"
    },
    {
     "data": {
      "text/html": [
       "0.0634135344623648"
      ],
      "text/latex": [
       "0.0634135344623648"
      ],
      "text/markdown": [
       "0.0634135344623648"
      ],
      "text/plain": [
       "[1] 0.06341353"
      ]
     },
     "metadata": {},
     "output_type": "display_data"
    },
    {
     "data": {
      "text/html": [
       "0.30226917109131"
      ],
      "text/latex": [
       "0.30226917109131"
      ],
      "text/markdown": [
       "0.30226917109131"
      ],
      "text/plain": [
       "[1] 0.3022692"
      ]
     },
     "metadata": {},
     "output_type": "display_data"
    }
   ],
   "source": [
    "321853/1796525\n",
    "23295/305486\n",
    "\n",
    "113924/1796525\n",
    "92339/305486"
   ]
  },
  {
   "cell_type": "code",
   "execution_count": 127,
   "id": "b0570a88",
   "metadata": {},
   "outputs": [],
   "source": [
    "names(sci_fq_T47) = fqnames$V1"
   ]
  },
  {
   "cell_type": "code",
   "execution_count": 140,
   "id": "1e562c32",
   "metadata": {},
   "outputs": [],
   "source": [
    "notrim.fq = sci_fq_T47[setdiff(names(sci_fq_T47),unique(T47_new_adapter$fqname))]"
   ]
  },
  {
   "cell_type": "code",
   "execution_count": 147,
   "id": "72d96d50",
   "metadata": {},
   "outputs": [],
   "source": [
    "notrim.fq2 = sci_fq_T47[T47_new_adapter.count %>% filter(adapter_count <= 2) %>% pull(fqname)]"
   ]
  },
  {
   "cell_type": "code",
   "execution_count": 151,
   "id": "e96a45ba",
   "metadata": {},
   "outputs": [],
   "source": [
    "notrim.fq3 = c(notrim.fq,notrim.fq2)"
   ]
  },
  {
   "cell_type": "code",
   "execution_count": 149,
   "id": "ac075e17",
   "metadata": {},
   "outputs": [],
   "source": [
    "to_deal.fq = sci_fq_T47[T47_new_adapter.count %>% filter(adapter_count > 2) %>% pull(fqname)]"
   ]
  },
  {
   "cell_type": "code",
   "execution_count": 153,
   "id": "dd5f1379",
   "metadata": {},
   "outputs": [
    {
     "data": {
      "text/plain": [
       "DNAStringSet object of length 1045251:\n",
       "           width seq                                        names               \n",
       "      [1]   7224 \u001b[47m\u001b[30mG\u001b[39m\u001b[49m\u001b[47m\u001b[30mT\u001b[39m\u001b[49m\u001b[47m\u001b[30mA\u001b[39m\u001b[49m\u001b[47m\u001b[30mC\u001b[39m\u001b[49m\u001b[47m\u001b[30mT\u001b[39m\u001b[49m\u001b[47m\u001b[30mT\u001b[39m\u001b[49m\u001b[47m\u001b[30mC\u001b[39m\u001b[49m\u001b[47m\u001b[30mG\u001b[39m\u001b[49m\u001b[47m\u001b[30mT\u001b[39m\u001b[49m\u001b[47m\u001b[30mT\u001b[39m\u001b[49m\u001b[47m\u001b[30mC\u001b[39m\u001b[49m\u001b[47m\u001b[30mA\u001b[39m\u001b[49m\u001b[47m\u001b[30mG\u001b[39m\u001b[49m\u001b[47m\u001b[30mT\u001b[39m\u001b[49m\u001b[47m\u001b[30mT\u001b[39m\u001b[49m\u001b[47m\u001b[30mA\u001b[39m\u001b[49m\u001b[47m\u001b[30mC\u001b[39m\u001b[49m\u001b[47m\u001b[30mG\u001b[39m\u001b[49m\u001b[47m\u001b[30mT\u001b[39m\u001b[49m\u001b[47m\u001b[30mA\u001b[39m\u001b[49m...\u001b[47m\u001b[30mC\u001b[39m\u001b[49m\u001b[47m\u001b[30mG\u001b[39m\u001b[49m\u001b[47m\u001b[30mT\u001b[39m\u001b[49m\u001b[47m\u001b[30mC\u001b[39m\u001b[49m\u001b[47m\u001b[30mA\u001b[39m\u001b[49m\u001b[47m\u001b[30mG\u001b[39m\u001b[49m\u001b[47m\u001b[30mC\u001b[39m\u001b[49m\u001b[47m\u001b[30mA\u001b[39m\u001b[49m\u001b[47m\u001b[30mG\u001b[39m\u001b[49m\u001b[47m\u001b[30mA\u001b[39m\u001b[49m\u001b[47m\u001b[30mG\u001b[39m\u001b[49m\u001b[47m\u001b[30mC\u001b[39m\u001b[49m\u001b[47m\u001b[30mA\u001b[39m\u001b[49m\u001b[47m\u001b[30mA\u001b[39m\u001b[49m\u001b[47m\u001b[30mT\u001b[39m\u001b[49m\u001b[47m\u001b[30mA\u001b[39m\u001b[49m\u001b[47m\u001b[30mC\u001b[39m\u001b[49m\u001b[47m\u001b[30mG\u001b[39m\u001b[49m\u001b[47m\u001b[30mT\u001b[39m\u001b[49m 000000d6-25b9-433...\n",
       "      [2]   1572 \u001b[47m\u001b[30mG\u001b[39m\u001b[49m\u001b[47m\u001b[30mC\u001b[39m\u001b[49m\u001b[47m\u001b[30mT\u001b[39m\u001b[49m\u001b[47m\u001b[30mT\u001b[39m\u001b[49m\u001b[47m\u001b[30mG\u001b[39m\u001b[49m\u001b[47m\u001b[30mT\u001b[39m\u001b[49m\u001b[47m\u001b[30mA\u001b[39m\u001b[49m\u001b[47m\u001b[30mC\u001b[39m\u001b[49m\u001b[47m\u001b[30mT\u001b[39m\u001b[49m\u001b[47m\u001b[30mT\u001b[39m\u001b[49m\u001b[47m\u001b[30mC\u001b[39m\u001b[49m\u001b[47m\u001b[30mG\u001b[39m\u001b[49m\u001b[47m\u001b[30mT\u001b[39m\u001b[49m\u001b[47m\u001b[30mT\u001b[39m\u001b[49m\u001b[47m\u001b[30mC\u001b[39m\u001b[49m\u001b[47m\u001b[30mA\u001b[39m\u001b[49m\u001b[47m\u001b[30mG\u001b[39m\u001b[49m\u001b[47m\u001b[30mT\u001b[39m\u001b[49m\u001b[47m\u001b[30mT\u001b[39m\u001b[49m\u001b[47m\u001b[30mA\u001b[39m\u001b[49m...\u001b[47m\u001b[30mT\u001b[39m\u001b[49m\u001b[47m\u001b[30mA\u001b[39m\u001b[49m\u001b[47m\u001b[30mC\u001b[39m\u001b[49m\u001b[47m\u001b[30mG\u001b[39m\u001b[49m\u001b[47m\u001b[30mT\u001b[39m\u001b[49m\u001b[47m\u001b[30mC\u001b[39m\u001b[49m\u001b[47m\u001b[30mA\u001b[39m\u001b[49m\u001b[47m\u001b[30mG\u001b[39m\u001b[49m\u001b[47m\u001b[30mC\u001b[39m\u001b[49m\u001b[47m\u001b[30mA\u001b[39m\u001b[49m\u001b[47m\u001b[30mG\u001b[39m\u001b[49m\u001b[47m\u001b[30mA\u001b[39m\u001b[49m\u001b[47m\u001b[30mG\u001b[39m\u001b[49m\u001b[47m\u001b[30mC\u001b[39m\u001b[49m\u001b[47m\u001b[30mA\u001b[39m\u001b[49m\u001b[47m\u001b[30mA\u001b[39m\u001b[49m\u001b[47m\u001b[30mT\u001b[39m\u001b[49m\u001b[47m\u001b[30mA\u001b[39m\u001b[49m\u001b[47m\u001b[30mC\u001b[39m\u001b[49m 000001c0-e4f8-487...\n",
       "      [3]   6059 \u001b[47m\u001b[30mC\u001b[39m\u001b[49m\u001b[47m\u001b[30mG\u001b[39m\u001b[49m\u001b[47m\u001b[30mC\u001b[39m\u001b[49m\u001b[47m\u001b[30mA\u001b[39m\u001b[49m\u001b[47m\u001b[30mC\u001b[39m\u001b[49m\u001b[47m\u001b[30mT\u001b[39m\u001b[49m\u001b[47m\u001b[30mT\u001b[39m\u001b[49m\u001b[47m\u001b[30mC\u001b[39m\u001b[49m\u001b[47m\u001b[30mG\u001b[39m\u001b[49m\u001b[47m\u001b[30mT\u001b[39m\u001b[49m\u001b[47m\u001b[30mT\u001b[39m\u001b[49m\u001b[47m\u001b[30mC\u001b[39m\u001b[49m\u001b[47m\u001b[30mA\u001b[39m\u001b[49m\u001b[47m\u001b[30mG\u001b[39m\u001b[49m\u001b[47m\u001b[30mT\u001b[39m\u001b[49m\u001b[47m\u001b[30mT\u001b[39m\u001b[49m\u001b[47m\u001b[30mA\u001b[39m\u001b[49m\u001b[47m\u001b[30mC\u001b[39m\u001b[49m\u001b[47m\u001b[30mG\u001b[39m\u001b[49m\u001b[47m\u001b[30mT\u001b[39m\u001b[49m...\u001b[47m\u001b[30mG\u001b[39m\u001b[49m\u001b[47m\u001b[30mC\u001b[39m\u001b[49m\u001b[47m\u001b[30mC\u001b[39m\u001b[49m\u001b[47m\u001b[30mA\u001b[39m\u001b[49m\u001b[47m\u001b[30mT\u001b[39m\u001b[49m\u001b[47m\u001b[30mG\u001b[39m\u001b[49m\u001b[47m\u001b[30mC\u001b[39m\u001b[49m\u001b[47m\u001b[30mC\u001b[39m\u001b[49m\u001b[47m\u001b[30mT\u001b[39m\u001b[49m\u001b[47m\u001b[30mA\u001b[39m\u001b[49m\u001b[47m\u001b[30mA\u001b[39m\u001b[49m\u001b[47m\u001b[30mC\u001b[39m\u001b[49m\u001b[47m\u001b[30mA\u001b[39m\u001b[49m\u001b[47m\u001b[30mA\u001b[39m\u001b[49m\u001b[47m\u001b[30mT\u001b[39m\u001b[49m\u001b[47m\u001b[30mA\u001b[39m\u001b[49m\u001b[47m\u001b[30mC\u001b[39m\u001b[49m\u001b[47m\u001b[30mG\u001b[39m\u001b[49m\u001b[47m\u001b[30mT\u001b[39m\u001b[49m 000018d2-cd68-410...\n",
       "      [4]   9553 \u001b[47m\u001b[30mT\u001b[39m\u001b[49m\u001b[47m\u001b[30mA\u001b[39m\u001b[49m\u001b[47m\u001b[30mC\u001b[39m\u001b[49m\u001b[47m\u001b[30mT\u001b[39m\u001b[49m\u001b[47m\u001b[30mT\u001b[39m\u001b[49m\u001b[47m\u001b[30mC\u001b[39m\u001b[49m\u001b[47m\u001b[30mG\u001b[39m\u001b[49m\u001b[47m\u001b[30mT\u001b[39m\u001b[49m\u001b[47m\u001b[30mT\u001b[39m\u001b[49m\u001b[47m\u001b[30mC\u001b[39m\u001b[49m\u001b[47m\u001b[30mA\u001b[39m\u001b[49m\u001b[47m\u001b[30mA\u001b[39m\u001b[49m\u001b[47m\u001b[30mG\u001b[39m\u001b[49m\u001b[47m\u001b[30mT\u001b[39m\u001b[49m\u001b[47m\u001b[30mT\u001b[39m\u001b[49m\u001b[47m\u001b[30mA\u001b[39m\u001b[49m\u001b[47m\u001b[30mC\u001b[39m\u001b[49m\u001b[47m\u001b[30mG\u001b[39m\u001b[49m\u001b[47m\u001b[30mT\u001b[39m\u001b[49m\u001b[47m\u001b[30mA\u001b[39m\u001b[49m...\u001b[47m\u001b[30mG\u001b[39m\u001b[49m\u001b[47m\u001b[30mT\u001b[39m\u001b[49m\u001b[47m\u001b[30mC\u001b[39m\u001b[49m\u001b[47m\u001b[30mA\u001b[39m\u001b[49m\u001b[47m\u001b[30mA\u001b[39m\u001b[49m\u001b[47m\u001b[30mC\u001b[39m\u001b[49m\u001b[47m\u001b[30mC\u001b[39m\u001b[49m\u001b[47m\u001b[30mA\u001b[39m\u001b[49m\u001b[47m\u001b[30mG\u001b[39m\u001b[49m\u001b[47m\u001b[30mA\u001b[39m\u001b[49m\u001b[47m\u001b[30mG\u001b[39m\u001b[49m\u001b[47m\u001b[30mC\u001b[39m\u001b[49m\u001b[47m\u001b[30mA\u001b[39m\u001b[49m\u001b[47m\u001b[30mA\u001b[39m\u001b[49m\u001b[47m\u001b[30mT\u001b[39m\u001b[49m\u001b[47m\u001b[30mA\u001b[39m\u001b[49m\u001b[47m\u001b[30mC\u001b[39m\u001b[49m\u001b[47m\u001b[30mG\u001b[39m\u001b[49m\u001b[47m\u001b[30mC\u001b[39m\u001b[49m 000026b5-ecb4-44d...\n",
       "      [5]   3553 \u001b[47m\u001b[30mA\u001b[39m\u001b[49m\u001b[47m\u001b[30mT\u001b[39m\u001b[49m\u001b[47m\u001b[30mG\u001b[39m\u001b[49m\u001b[47m\u001b[30mT\u001b[39m\u001b[49m\u001b[47m\u001b[30mA\u001b[39m\u001b[49m\u001b[47m\u001b[30mC\u001b[39m\u001b[49m\u001b[47m\u001b[30mT\u001b[39m\u001b[49m\u001b[47m\u001b[30mT\u001b[39m\u001b[49m\u001b[47m\u001b[30mC\u001b[39m\u001b[49m\u001b[47m\u001b[30mG\u001b[39m\u001b[49m\u001b[47m\u001b[30mT\u001b[39m\u001b[49m\u001b[47m\u001b[30mT\u001b[39m\u001b[49m\u001b[47m\u001b[30mC\u001b[39m\u001b[49m\u001b[47m\u001b[30mA\u001b[39m\u001b[49m\u001b[47m\u001b[30mG\u001b[39m\u001b[49m\u001b[47m\u001b[30mT\u001b[39m\u001b[49m\u001b[47m\u001b[30mT\u001b[39m\u001b[49m\u001b[47m\u001b[30mA\u001b[39m\u001b[49m\u001b[47m\u001b[30mC\u001b[39m\u001b[49m\u001b[47m\u001b[30mG\u001b[39m\u001b[49m...\u001b[47m\u001b[30mG\u001b[39m\u001b[49m\u001b[47m\u001b[30mC\u001b[39m\u001b[49m\u001b[47m\u001b[30mC\u001b[39m\u001b[49m\u001b[47m\u001b[30mG\u001b[39m\u001b[49m\u001b[47m\u001b[30mT\u001b[39m\u001b[49m\u001b[47m\u001b[30mC\u001b[39m\u001b[49m\u001b[47m\u001b[30mA\u001b[39m\u001b[49m\u001b[47m\u001b[30mG\u001b[39m\u001b[49m\u001b[47m\u001b[30mC\u001b[39m\u001b[49m\u001b[47m\u001b[30mG\u001b[39m\u001b[49m\u001b[47m\u001b[30mA\u001b[39m\u001b[49m\u001b[47m\u001b[30mG\u001b[39m\u001b[49m\u001b[47m\u001b[30mC\u001b[39m\u001b[49m\u001b[47m\u001b[30mA\u001b[39m\u001b[49m\u001b[47m\u001b[30mA\u001b[39m\u001b[49m\u001b[47m\u001b[30mT\u001b[39m\u001b[49m\u001b[47m\u001b[30mA\u001b[39m\u001b[49m\u001b[47m\u001b[30mC\u001b[39m\u001b[49m\u001b[47m\u001b[30mG\u001b[39m\u001b[49m 00002c26-5eea-48d...\n",
       "      ...    ... ...\n",
       "[1045247]   5655 \u001b[47m\u001b[30mT\u001b[39m\u001b[49m\u001b[47m\u001b[30mA\u001b[39m\u001b[49m\u001b[47m\u001b[30mC\u001b[39m\u001b[49m\u001b[47m\u001b[30mT\u001b[39m\u001b[49m\u001b[47m\u001b[30mT\u001b[39m\u001b[49m\u001b[47m\u001b[30mC\u001b[39m\u001b[49m\u001b[47m\u001b[30mG\u001b[39m\u001b[49m\u001b[47m\u001b[30mT\u001b[39m\u001b[49m\u001b[47m\u001b[30mT\u001b[39m\u001b[49m\u001b[47m\u001b[30mC\u001b[39m\u001b[49m\u001b[47m\u001b[30mA\u001b[39m\u001b[49m\u001b[47m\u001b[30mG\u001b[39m\u001b[49m\u001b[47m\u001b[30mT\u001b[39m\u001b[49m\u001b[47m\u001b[30mT\u001b[39m\u001b[49m\u001b[47m\u001b[30mA\u001b[39m\u001b[49m\u001b[47m\u001b[30mC\u001b[39m\u001b[49m\u001b[47m\u001b[30mG\u001b[39m\u001b[49m\u001b[47m\u001b[30mT\u001b[39m\u001b[49m\u001b[47m\u001b[30mA\u001b[39m\u001b[49m\u001b[47m\u001b[30mT\u001b[39m\u001b[49m...\u001b[47m\u001b[30mC\u001b[39m\u001b[49m\u001b[47m\u001b[30mA\u001b[39m\u001b[49m\u001b[47m\u001b[30mA\u001b[39m\u001b[49m\u001b[47m\u001b[30mC\u001b[39m\u001b[49m\u001b[47m\u001b[30mA\u001b[39m\u001b[49m\u001b[47m\u001b[30mA\u001b[39m\u001b[49m\u001b[47m\u001b[30mC\u001b[39m\u001b[49m\u001b[47m\u001b[30mC\u001b[39m\u001b[49m\u001b[47m\u001b[30mA\u001b[39m\u001b[49m\u001b[47m\u001b[30mA\u001b[39m\u001b[49m\u001b[47m\u001b[30mA\u001b[39m\u001b[49m\u001b[47m\u001b[30mA\u001b[39m\u001b[49m\u001b[47m\u001b[30mC\u001b[39m\u001b[49m\u001b[47m\u001b[30mC\u001b[39m\u001b[49m\u001b[47m\u001b[30mC\u001b[39m\u001b[49m\u001b[47m\u001b[30mA\u001b[39m\u001b[49m\u001b[47m\u001b[30mG\u001b[39m\u001b[49m\u001b[47m\u001b[30mC\u001b[39m\u001b[49m\u001b[47m\u001b[30mC\u001b[39m\u001b[49m ffff8f09-bd4b-4d8...\n",
       "[1045248]   9163 \u001b[47m\u001b[30mA\u001b[39m\u001b[49m\u001b[47m\u001b[30mT\u001b[39m\u001b[49m\u001b[47m\u001b[30mT\u001b[39m\u001b[49m\u001b[47m\u001b[30mA\u001b[39m\u001b[49m\u001b[47m\u001b[30mC\u001b[39m\u001b[49m\u001b[47m\u001b[30mT\u001b[39m\u001b[49m\u001b[47m\u001b[30mT\u001b[39m\u001b[49m\u001b[47m\u001b[30mC\u001b[39m\u001b[49m\u001b[47m\u001b[30mG\u001b[39m\u001b[49m\u001b[47m\u001b[30mT\u001b[39m\u001b[49m\u001b[47m\u001b[30mT\u001b[39m\u001b[49m\u001b[47m\u001b[30mC\u001b[39m\u001b[49m\u001b[47m\u001b[30mA\u001b[39m\u001b[49m\u001b[47m\u001b[30mG\u001b[39m\u001b[49m\u001b[47m\u001b[30mT\u001b[39m\u001b[49m\u001b[47m\u001b[30mT\u001b[39m\u001b[49m\u001b[47m\u001b[30mA\u001b[39m\u001b[49m\u001b[47m\u001b[30mC\u001b[39m\u001b[49m\u001b[47m\u001b[30mG\u001b[39m\u001b[49m\u001b[47m\u001b[30mT\u001b[39m\u001b[49m...\u001b[47m\u001b[30mT\u001b[39m\u001b[49m\u001b[47m\u001b[30mC\u001b[39m\u001b[49m\u001b[47m\u001b[30mG\u001b[39m\u001b[49m\u001b[47m\u001b[30mC\u001b[39m\u001b[49m\u001b[47m\u001b[30mC\u001b[39m\u001b[49m\u001b[47m\u001b[30mA\u001b[39m\u001b[49m\u001b[47m\u001b[30mT\u001b[39m\u001b[49m\u001b[47m\u001b[30mG\u001b[39m\u001b[49m\u001b[47m\u001b[30mC\u001b[39m\u001b[49m\u001b[47m\u001b[30mC\u001b[39m\u001b[49m\u001b[47m\u001b[30mT\u001b[39m\u001b[49m\u001b[47m\u001b[30mG\u001b[39m\u001b[49m\u001b[47m\u001b[30mG\u001b[39m\u001b[49m\u001b[47m\u001b[30mC\u001b[39m\u001b[49m\u001b[47m\u001b[30mA\u001b[39m\u001b[49m\u001b[47m\u001b[30mA\u001b[39m\u001b[49m\u001b[47m\u001b[30mT\u001b[39m\u001b[49m\u001b[47m\u001b[30mA\u001b[39m\u001b[49m\u001b[47m\u001b[30mC\u001b[39m\u001b[49m ffff9550-c7ae-4c7...\n",
       "[1045249]   2557 \u001b[47m\u001b[30mC\u001b[39m\u001b[49m\u001b[47m\u001b[30mT\u001b[39m\u001b[49m\u001b[47m\u001b[30mT\u001b[39m\u001b[49m\u001b[47m\u001b[30mG\u001b[39m\u001b[49m\u001b[47m\u001b[30mT\u001b[39m\u001b[49m\u001b[47m\u001b[30mA\u001b[39m\u001b[49m\u001b[47m\u001b[30mC\u001b[39m\u001b[49m\u001b[47m\u001b[30mT\u001b[39m\u001b[49m\u001b[47m\u001b[30mT\u001b[39m\u001b[49m\u001b[47m\u001b[30mC\u001b[39m\u001b[49m\u001b[47m\u001b[30mG\u001b[39m\u001b[49m\u001b[47m\u001b[30mT\u001b[39m\u001b[49m\u001b[47m\u001b[30mT\u001b[39m\u001b[49m\u001b[47m\u001b[30mC\u001b[39m\u001b[49m\u001b[47m\u001b[30mA\u001b[39m\u001b[49m\u001b[47m\u001b[30mG\u001b[39m\u001b[49m\u001b[47m\u001b[30mT\u001b[39m\u001b[49m\u001b[47m\u001b[30mT\u001b[39m\u001b[49m\u001b[47m\u001b[30mA\u001b[39m\u001b[49m\u001b[47m\u001b[30mC\u001b[39m\u001b[49m...\u001b[47m\u001b[30mT\u001b[39m\u001b[49m\u001b[47m\u001b[30mC\u001b[39m\u001b[49m\u001b[47m\u001b[30mC\u001b[39m\u001b[49m\u001b[47m\u001b[30mA\u001b[39m\u001b[49m\u001b[47m\u001b[30mG\u001b[39m\u001b[49m\u001b[47m\u001b[30mA\u001b[39m\u001b[49m\u001b[47m\u001b[30mT\u001b[39m\u001b[49m\u001b[47m\u001b[30mA\u001b[39m\u001b[49m\u001b[47m\u001b[30mG\u001b[39m\u001b[49m\u001b[47m\u001b[30mC\u001b[39m\u001b[49m\u001b[47m\u001b[30mA\u001b[39m\u001b[49m\u001b[47m\u001b[30mA\u001b[39m\u001b[49m\u001b[47m\u001b[30mT\u001b[39m\u001b[49m\u001b[47m\u001b[30mA\u001b[39m\u001b[49m\u001b[47m\u001b[30mC\u001b[39m\u001b[49m\u001b[47m\u001b[30mG\u001b[39m\u001b[49m\u001b[47m\u001b[30mT\u001b[39m\u001b[49m\u001b[47m\u001b[30mA\u001b[39m\u001b[49m\u001b[47m\u001b[30mT\u001b[39m\u001b[49m ffffb29d-0726-4d7...\n",
       "[1045250]  10565 \u001b[47m\u001b[30mC\u001b[39m\u001b[49m\u001b[47m\u001b[30mT\u001b[39m\u001b[49m\u001b[47m\u001b[30mT\u001b[39m\u001b[49m\u001b[47m\u001b[30mG\u001b[39m\u001b[49m\u001b[47m\u001b[30mT\u001b[39m\u001b[49m\u001b[47m\u001b[30mA\u001b[39m\u001b[49m\u001b[47m\u001b[30mC\u001b[39m\u001b[49m\u001b[47m\u001b[30mT\u001b[39m\u001b[49m\u001b[47m\u001b[30mT\u001b[39m\u001b[49m\u001b[47m\u001b[30mC\u001b[39m\u001b[49m\u001b[47m\u001b[30mG\u001b[39m\u001b[49m\u001b[47m\u001b[30mT\u001b[39m\u001b[49m\u001b[47m\u001b[30mT\u001b[39m\u001b[49m\u001b[47m\u001b[30mT\u001b[39m\u001b[49m\u001b[47m\u001b[30mC\u001b[39m\u001b[49m\u001b[47m\u001b[30mA\u001b[39m\u001b[49m\u001b[47m\u001b[30mG\u001b[39m\u001b[49m\u001b[47m\u001b[30mT\u001b[39m\u001b[49m\u001b[47m\u001b[30mT\u001b[39m\u001b[49m\u001b[47m\u001b[30mA\u001b[39m\u001b[49m...\u001b[47m\u001b[30mG\u001b[39m\u001b[49m\u001b[47m\u001b[30mA\u001b[39m\u001b[49m\u001b[47m\u001b[30mT\u001b[39m\u001b[49m\u001b[47m\u001b[30mC\u001b[39m\u001b[49m\u001b[47m\u001b[30mT\u001b[39m\u001b[49m\u001b[47m\u001b[30mT\u001b[39m\u001b[49m\u001b[47m\u001b[30mA\u001b[39m\u001b[49m\u001b[47m\u001b[30mC\u001b[39m\u001b[49m\u001b[47m\u001b[30mA\u001b[39m\u001b[49m\u001b[47m\u001b[30mA\u001b[39m\u001b[49m\u001b[47m\u001b[30mA\u001b[39m\u001b[49m\u001b[47m\u001b[30mG\u001b[39m\u001b[49m\u001b[47m\u001b[30mC\u001b[39m\u001b[49m\u001b[47m\u001b[30mA\u001b[39m\u001b[49m\u001b[47m\u001b[30mA\u001b[39m\u001b[49m\u001b[47m\u001b[30mT\u001b[39m\u001b[49m\u001b[47m\u001b[30mA\u001b[39m\u001b[49m\u001b[47m\u001b[30mC\u001b[39m\u001b[49m\u001b[47m\u001b[30mG\u001b[39m\u001b[49m ffffb671-d438-4b0...\n",
       "[1045251]   4664 \u001b[47m\u001b[30mC\u001b[39m\u001b[49m\u001b[47m\u001b[30mA\u001b[39m\u001b[49m\u001b[47m\u001b[30mG\u001b[39m\u001b[49m\u001b[47m\u001b[30mC\u001b[39m\u001b[49m\u001b[47m\u001b[30mG\u001b[39m\u001b[49m\u001b[47m\u001b[30mC\u001b[39m\u001b[49m\u001b[47m\u001b[30mA\u001b[39m\u001b[49m\u001b[47m\u001b[30mC\u001b[39m\u001b[49m\u001b[47m\u001b[30mT\u001b[39m\u001b[49m\u001b[47m\u001b[30mT\u001b[39m\u001b[49m\u001b[47m\u001b[30mC\u001b[39m\u001b[49m\u001b[47m\u001b[30mG\u001b[39m\u001b[49m\u001b[47m\u001b[30mT\u001b[39m\u001b[49m\u001b[47m\u001b[30mT\u001b[39m\u001b[49m\u001b[47m\u001b[30mC\u001b[39m\u001b[49m\u001b[47m\u001b[30mG\u001b[39m\u001b[49m\u001b[47m\u001b[30mA\u001b[39m\u001b[49m\u001b[47m\u001b[30mT\u001b[39m\u001b[49m\u001b[47m\u001b[30mT\u001b[39m\u001b[49m\u001b[47m\u001b[30mT\u001b[39m\u001b[49m...\u001b[47m\u001b[30mC\u001b[39m\u001b[49m\u001b[47m\u001b[30mA\u001b[39m\u001b[49m\u001b[47m\u001b[30mG\u001b[39m\u001b[49m\u001b[47m\u001b[30mC\u001b[39m\u001b[49m\u001b[47m\u001b[30mA\u001b[39m\u001b[49m\u001b[47m\u001b[30mG\u001b[39m\u001b[49m\u001b[47m\u001b[30mA\u001b[39m\u001b[49m\u001b[47m\u001b[30mG\u001b[39m\u001b[49m\u001b[47m\u001b[30mC\u001b[39m\u001b[49m\u001b[47m\u001b[30mA\u001b[39m\u001b[49m\u001b[47m\u001b[30mA\u001b[39m\u001b[49m\u001b[47m\u001b[30mT\u001b[39m\u001b[49m\u001b[47m\u001b[30mG\u001b[39m\u001b[49m\u001b[47m\u001b[30mC\u001b[39m\u001b[49m\u001b[47m\u001b[30mA\u001b[39m\u001b[49m\u001b[47m\u001b[30mG\u001b[39m\u001b[49m\u001b[47m\u001b[30mC\u001b[39m\u001b[49m\u001b[47m\u001b[30mC\u001b[39m\u001b[49m\u001b[47m\u001b[30mA\u001b[39m\u001b[49m ffffd947-d611-43a..."
      ]
     },
     "metadata": {},
     "output_type": "display_data"
    }
   ],
   "source": [
    "to_deal.fq"
   ]
  },
  {
   "cell_type": "code",
   "execution_count": null,
   "id": "f7fcea9f",
   "metadata": {},
   "outputs": [],
   "source": []
  }
 ],
 "metadata": {
  "kernelspec": {
   "display_name": "R4.2",
   "language": "R",
   "name": "ir42"
  },
  "language_info": {
   "codemirror_mode": "r",
   "file_extension": ".r",
   "mimetype": "text/x-r-source",
   "name": "R",
   "pygments_lexer": "r",
   "version": "4.2.2"
  }
 },
 "nbformat": 4,
 "nbformat_minor": 5
}
