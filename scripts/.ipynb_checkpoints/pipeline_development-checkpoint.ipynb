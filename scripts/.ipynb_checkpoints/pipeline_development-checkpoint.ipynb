{
 "cells": [
  {
   "cell_type": "code",
   "execution_count": 254,
   "id": "8311d278",
   "metadata": {},
   "outputs": [],
   "source": [
    "import pysam\n",
    "import pandas as pd\n",
    "import numpy as np\n",
    "import time"
   ]
  },
  {
   "cell_type": "code",
   "execution_count": 4,
   "id": "2218459a",
   "metadata": {},
   "outputs": [],
   "source": [
    "inbam = \"../BGI_benchmark/BGI_data/TB20003420-202401221650300_read.splitted.fasta.gz.sorted.bam\"\n",
    "outbam = inbam.replace(\".bam\",\".rename.bam\")"
   ]
  },
  {
   "cell_type": "code",
   "execution_count": 99,
   "id": "92e4d4fe",
   "metadata": {},
   "outputs": [],
   "source": [
    "CID_loc = pd.read_table(\"../BGI_benchmark/BGI_data/CID_loc.tsv\",sep=\" \")"
   ]
  },
  {
   "cell_type": "code",
   "execution_count": 100,
   "id": "988f6491",
   "metadata": {},
   "outputs": [],
   "source": [
    "CID_loc.set_index(\"fqname\",\n",
    "            inplace = True)"
   ]
  },
  {
   "cell_type": "code",
   "execution_count": 117,
   "id": "18f4c3a3",
   "metadata": {},
   "outputs": [],
   "source": [
    "def get_val_start(df,x):\n",
    "    try:\n",
    "        return df.loc[x][\"start\"]\n",
    "    except KeyError:\n",
    "        return \"\""
   ]
  },
  {
   "cell_type": "code",
   "execution_count": 148,
   "id": "a86f54b7",
   "metadata": {},
   "outputs": [],
   "source": [
    "a = CID_loc.iloc[1:3].copy()"
   ]
  },
  {
   "cell_type": "code",
   "execution_count": 149,
   "id": "15835d16",
   "metadata": {},
   "outputs": [],
   "source": [
    "a.loc[:,\"haha\"] = 1"
   ]
  },
  {
   "cell_type": "code",
   "execution_count": 181,
   "id": "061d46bd",
   "metadata": {},
   "outputs": [
    {
     "data": {
      "text/plain": [
       "True"
      ]
     },
     "execution_count": 181,
     "metadata": {},
     "output_type": "execute_result"
    }
   ],
   "source": [
    "\"TB20003420-202401221650300_20240122174509_00226_000011531;st_ed:A:1-765;AD:A:no-split;AP:NA:NA|AD:A:no-split\" in CID_loc.index"
   ]
  },
  {
   "cell_type": "code",
   "execution_count": null,
   "id": "85b550d2",
   "metadata": {},
   "outputs": [],
   "source": [
    "clips = clips %>% mutate(distance = ifelse(grepl(pattern = \"RC\",type),qstart - end - 1,start - qend - 1)) %>% \n",
    "mutate(distance2 = abs(distance - 50))\n",
    " \n",
    "#for each alignment we select an CID\n",
    "clips = clips %>% group_by(qname,qstart,qend) %>% filter(distance2 == min(distance2)) %>% filter(distance2 <= 80)"
   ]
  },
  {
   "cell_type": "code",
   "execution_count": 120,
   "id": "0fb59c0a",
   "metadata": {},
   "outputs": [],
   "source": [
    "st = list()\n",
    "for q in qname[1:10]:\n",
    "    st.append(get_val_start(CID_loc,q))"
   ]
  },
  {
   "cell_type": "code",
   "execution_count": 160,
   "id": "42619f64",
   "metadata": {},
   "outputs": [],
   "source": [
    "CID_loc_sub = CID_loc.iloc[1:10].copy()"
   ]
  },
  {
   "cell_type": "code",
   "execution_count": 193,
   "id": "b843efec",
   "metadata": {},
   "outputs": [],
   "source": [
    "a = CID_loc.loc[qname[1]].to_frame().T"
   ]
  },
  {
   "cell_type": "code",
   "execution_count": 210,
   "id": "3a199f29",
   "metadata": {},
   "outputs": [
    {
     "data": {
      "text/plain": [
       "0"
      ]
     },
     "execution_count": 210,
     "metadata": {},
     "output_type": "execute_result"
    }
   ],
   "source": [
    "len(a.loc[a[\"start\"]<=20][\"start\"])"
   ]
  },
  {
   "cell_type": "code",
   "execution_count": 247,
   "id": "4ae3e6e6",
   "metadata": {},
   "outputs": [
    {
     "data": {
      "text/plain": [
       "array([False, False, False])"
      ]
     },
     "execution_count": 247,
     "metadata": {},
     "output_type": "execute_result"
    }
   ],
   "source": [
    "np.array([False,False,True]) & np.array([False,False,False])"
   ]
  },
  {
   "cell_type": "code",
   "execution_count": 167,
   "id": "a670faef",
   "metadata": {},
   "outputs": [],
   "source": [
    "# CID_loc_sub.apply(lambda x: \"haha\" if x.loc[\"type\"].str.contains(\"RC\") else \"xixi\",axis=1)"
   ]
  },
  {
   "cell_type": "code",
   "execution_count": 226,
   "id": "b2fabf0a",
   "metadata": {},
   "outputs": [],
   "source": [
    "idx2 = np.flatnonzero(np.core.defchararray.find(np.asanyarray([\"aaa\",\"abc\"]),\"a\")!=-1)"
   ]
  },
  {
   "cell_type": "code",
   "execution_count": 234,
   "id": "3eaa59f5",
   "metadata": {},
   "outputs": [
    {
     "data": {
      "text/plain": [
       "array([ True, False])"
      ]
     },
     "execution_count": 234,
     "metadata": {},
     "output_type": "execute_result"
    }
   ],
   "source": [
    "np.asanyarray([10,12]) == min(np.asanyarray([10,12]))"
   ]
  },
  {
   "cell_type": "code",
   "execution_count": 239,
   "id": "ccb97a6d",
   "metadata": {},
   "outputs": [
    {
     "data": {
      "text/plain": [
       "numpy.ndarray"
      ]
     },
     "execution_count": 239,
     "metadata": {},
     "output_type": "execute_result"
    }
   ],
   "source": [
    "type(np.array([\"aaa\"]))"
   ]
  },
  {
   "cell_type": "code",
   "execution_count": 237,
   "id": "a50ce88a",
   "metadata": {},
   "outputs": [
    {
     "data": {
      "text/plain": [
       "array([ True])"
      ]
     },
     "execution_count": 237,
     "metadata": {},
     "output_type": "execute_result"
    }
   ],
   "source": [
    "np.core.defchararray.find(np.array([\"aaa\"]),\"a\")!=-1"
   ]
  },
  {
   "cell_type": "code",
   "execution_count": 195,
   "id": "b5a0a57e",
   "metadata": {},
   "outputs": [
    {
     "data": {
      "text/plain": [
       "fqname\n",
       "TB20003420-202401221650300_20240122174509_00030_000044815;st_ed:A:1-567;AD:A:no-split;AP:NA:NA|AD:A:no-split     False\n",
       "TB20003420-202401221650300_20240122174509_00457_000047896;st_ed:A:1-1512;AD:A:no-split;AP:NA:NA|AD:A:no-split     True\n",
       "TB20003420-202401221650300_20240122174509_00055_000000244;st_ed:A:1-268;AD:A:no-split;AP:NA:NA|AD:A:no-split     False\n",
       "TB20003420-202401221650300_20240122174509_00594_000005563;st_ed:A:1-549;AD:A:no-split;AP:NA:NA|AD:A:no-split      True\n",
       "TB20003420-202401221650300_20240122174509_00467_000016759;st_ed:A:1-1018;AD:A:no-split;AP:NA:NA|AD:A:no-split    False\n",
       "TB20003420-202401221650300_20240122174509_00526_000025581;st_ed:A:1-583;AD:A:no-split;AP:NA:NA|AD:A:no-split      True\n",
       "TB20003420-202401221650300_20240122174509_00626_000049778;st_ed:A:1-877;AD:A:no-split;AP:NA:NA|AD:A:no-split      True\n",
       "TB20003420-202401221650300_20240122174509_00639_000043181;st_ed:A:1-360;AD:A:no-split;AP:NA:NA|AD:A:no-split      True\n",
       "TB20003420-202401221650300_20240122174509_00770_000025765;st_ed:A:1-629;AD:A:no-split;AP:NA:NA|AD:A:no-split      True\n",
       "dtype: bool"
      ]
     },
     "execution_count": 195,
     "metadata": {},
     "output_type": "execute_result"
    }
   ],
   "source": [
    "CID_loc_sub.apply(lambda x:\"bo\" in x[\"type\"],axis = 1)"
   ]
  },
  {
   "cell_type": "code",
   "execution_count": 114,
   "id": "c028d4ec",
   "metadata": {},
   "outputs": [
    {
     "data": {
      "text/plain": [
       "array([False, False, False, ..., False, False, False])"
      ]
     },
     "execution_count": 114,
     "metadata": {},
     "output_type": "execute_result"
    }
   ],
   "source": [
    "CID_loc.index.isin(qname[1:2])"
   ]
  },
  {
   "cell_type": "code",
   "execution_count": 58,
   "id": "4292b35f",
   "metadata": {},
   "outputs": [],
   "source": [
    "infile = pysam.AlignmentFile(inbam, \"r\")\n",
    "outfile = pysam.AlignmentFile(outbam, \"w\", template=infile)\n",
    "cigar_tuple = {0:\"M\",1:\"I\",2:\"D\",3:\"N\",4:\"S\",5:\"H\",6:\"P\",7:\"=\",8:\"X\",9:\"B\"}\n",
    "count = 0\n",
    "id_CID_out = \"../BGI_benchmark/BGI_data/qname_CID.tsv\"\n",
    "id_CID_out = open(id_CID_out,\"w\")\n",
    "qname = []\n",
    "for s in infile:\n",
    "    if count == 10000:\n",
    "        break\n",
    "    count += 1\n",
    "    qname.append(s.query_name)"
   ]
  },
  {
   "cell_type": "code",
   "execution_count": 71,
   "id": "e3b0f6ba",
   "metadata": {},
   "outputs": [
    {
     "data": {
      "text/plain": [
       "8872"
      ]
     },
     "execution_count": 71,
     "metadata": {},
     "output_type": "execute_result"
    }
   ],
   "source": [
    "len(list(set(qname) & set(list(CID_loc[\"fqname\"]))))"
   ]
  },
  {
   "cell_type": "code",
   "execution_count": null,
   "id": "7cf6dd4f",
   "metadata": {},
   "outputs": [],
   "source": [
    "clips %>% mutate(qname = paste(qname,paste0(\"ts-te:\",qstart,\"-\",qend),sep = \"|\"))"
   ]
  },
  {
   "cell_type": "code",
   "execution_count": 8,
   "id": "2572fa0e",
   "metadata": {},
   "outputs": [],
   "source": [
    "q.query_name = q.query_name + \"a\""
   ]
  },
  {
   "cell_type": "code",
   "execution_count": 35,
   "id": "ae8cfce2",
   "metadata": {},
   "outputs": [],
   "source": [
    "a = pd.read_table(\"../BGI_benchmark/BGI_data/CID_loc.tsv\",sep=\" \")"
   ]
  },
  {
   "cell_type": "code",
   "execution_count": null,
   "id": "8b294475",
   "metadata": {},
   "outputs": [],
   "source": [
    "df.loc[df['A'] == 'foo']"
   ]
  },
  {
   "cell_type": "code",
   "execution_count": 44,
   "id": "ad9b5bae",
   "metadata": {},
   "outputs": [
    {
     "data": {
      "text/html": [
       "<div>\n",
       "<style scoped>\n",
       "    .dataframe tbody tr th:only-of-type {\n",
       "        vertical-align: middle;\n",
       "    }\n",
       "\n",
       "    .dataframe tbody tr th {\n",
       "        vertical-align: top;\n",
       "    }\n",
       "\n",
       "    .dataframe thead th {\n",
       "        text-align: right;\n",
       "    }\n",
       "</style>\n",
       "<table border=\"1\" class=\"dataframe\">\n",
       "  <thead>\n",
       "    <tr style=\"text-align: right;\">\n",
       "      <th></th>\n",
       "      <th>fqname</th>\n",
       "      <th>start</th>\n",
       "      <th>end</th>\n",
       "      <th>type</th>\n",
       "      <th>width</th>\n",
       "    </tr>\n",
       "  </thead>\n",
       "  <tbody>\n",
       "  </tbody>\n",
       "</table>\n",
       "</div>"
      ],
      "text/plain": [
       "Empty DataFrame\n",
       "Columns: [fqname, start, end, type, width]\n",
       "Index: []"
      ]
     },
     "execution_count": 44,
     "metadata": {},
     "output_type": "execute_result"
    }
   ],
   "source": [
    "a.loc[a[\"fqname\"] == q.query_name]"
   ]
  },
  {
   "cell_type": "code",
   "execution_count": 258,
   "id": "9fe98076",
   "metadata": {},
   "outputs": [
    {
     "name": "stdout",
     "output_type": "stream",
     "text": [
      "19.477081060409546\n"
     ]
    }
   ],
   "source": [
    "start = time.time()\n",
    "CID_loc = pd.read_table(\"../BGI_benchmark/BGI_data/CID_loc.tsv\",sep=\" \")\n",
    "aln_pd  = pd.read_table(\"../BGI_benchmark/BGI_data/qname_CID.tsv\",sep=\"\\t\",names = [\"raw_name\",\"new_name\",\"qstart\",\"qend\"])\n",
    "aln_pd2 = aln_pd.merge(CID_loc,how = \"left\",left_on = \"raw_name\",right_on = \"fqname\")\n",
    "aln_pd2[\"distance\"] = aln_pd\n",
    "print(time.time() - start)"
   ]
  },
  {
   "cell_type": "code",
   "execution_count": 259,
   "id": "06ce11ac",
   "metadata": {},
   "outputs": [],
   "source": []
  },
  {
   "cell_type": "code",
   "execution_count": 260,
   "id": "c82e157a",
   "metadata": {},
   "outputs": [],
   "source": []
  },
  {
   "cell_type": "code",
   "execution_count": null,
   "id": "1fdbed08",
   "metadata": {},
   "outputs": [],
   "source": []
  }
 ],
 "metadata": {
  "kernelspec": {
   "display_name": "pyenvjupyter",
   "language": "python",
   "name": "pyenvjupyter"
  },
  "language_info": {
   "codemirror_mode": {
    "name": "ipython",
    "version": 3
   },
   "file_extension": ".py",
   "mimetype": "text/x-python",
   "name": "python",
   "nbconvert_exporter": "python",
   "pygments_lexer": "ipython3",
   "version": "3.11.0"
  }
 },
 "nbformat": 4,
 "nbformat_minor": 5
}
