{
 "cells": [
  {
   "cell_type": "code",
   "execution_count": null,
   "id": "aaa60413",
   "metadata": {},
   "outputs": [],
   "source": [
    "library(rtracklayer)\n",
    "library(plyranges)"
   ]
  },
  {
   "cell_type": "code",
   "execution_count": null,
   "id": "ded6a4b3",
   "metadata": {},
   "outputs": [],
   "source": [
    "bed = import(\"../alignments/T44-MAS-15-seq_failed.fastq.sorted.bed\")\n",
    "bed.names = bed %>% filter(score >= 6)\n",
    "bed.names = bed.names$name"
   ]
  },
  {
   "cell_type": "code",
   "execution_count": null,
   "id": "537837fd",
   "metadata": {},
   "outputs": [],
   "source": [
    "sci_fq = readDNAStringSet(\"../fastq/T44-MAS-15-seq_failed.fastq\",format = \"fastq\")\n",
    "fqnames = sapply(str_split(names(sci_fq),\" \"),`[`,1)"
   ]
  },
  {
   "cell_type": "code",
   "execution_count": null,
   "id": "5e6bfbef",
   "metadata": {},
   "outputs": [],
   "source": [
    "adapter.files.mismatch0 = list.files(\"../data/T44-MAS-15-seq_failed/\",pattern = \".*mismatch0.*qs$\",full.names = T)\n",
    "adapter.files.mismatch1 = list.files(\"../data/T44-MAS-15-seq_failed/\",pattern = \".*mismatch1.*qs$\",full.names = T)\n",
    "adapter.files.mismatch2 = list.files(\"../data/T44-MAS-15-seq_failed/\",pattern = \".*mismatch2.*qs$\",full.names = T)\n",
    "adapter.files.mismatch3 = list.files(\"../data/T44-MAS-15-seq_failed/\",pattern = \".*mismatch3.*qs$\",full.names = T)"
   ]
  },
  {
   "cell_type": "code",
   "execution_count": null,
   "id": "a0a8ed92",
   "metadata": {},
   "outputs": [],
   "source": [
    "adapter.list.mismatch2 = mclapply(adapter.files.mismatch2,function(file){\n",
    "    df = as.data.frame(qread(file))\n",
    "    type2 = str_replace(str_replace(str_replace(file,\"../data/T44-MAS-15-seq_failed//\",\"\"),\".qs\",\"\"),\".mismatch2\",\"\")\n",
    "    df$type = type2\n",
    "    df = df %>% select(-group_name) %>% mutate(fqname = fqnames[group]) %>% select(-group)\n",
    "    return(df)\n",
    "},mc.cores = 20)"
   ]
  },
  {
   "cell_type": "code",
   "execution_count": null,
   "id": "b4a70f62",
   "metadata": {},
   "outputs": [],
   "source": [
    "adapter.df.mismatch2.oligo = do.call(\"bind_rows\",adapter.list.mismatch2[33:38])"
   ]
  },
  {
   "cell_type": "code",
   "execution_count": null,
   "id": "d3da1436",
   "metadata": {},
   "outputs": [],
   "source": [
    "components = list(\"CIDcapture\" = adapter.list.mismatch2[[33]]$fqname,\"CIDcapture.rc\" = adapter.list.mismatch2[[34]]$fqname,\n",
    "\"CIDoligo\" = adapter.list.mismatch2[[35]]$fqname,\"CIDoligo.rc\" = adapter.list.mismatch2[[36]]$fqname,\n",
    "\"TSO\" = adapter.list.mismatch2[[37]]$fqname,\"TSO.rc\" = adapter.list.mismatch2[[38]]$fqname,\"mapped\" = unique(bed.names))"
   ]
  },
  {
   "cell_type": "code",
   "execution_count": null,
   "id": "61cd3db3",
   "metadata": {},
   "outputs": [],
   "source": [
    "upsetlist.mx = list_to_matrix(components)\n",
    "m1 = make_comb_mat(upsetlist.mx)\n",
    "m2 = m1[comb_size(m1)>=max(comb_size(m1))*0.05]\n",
    "upset.p = UpSet(m2,comb_order = order(-comb_size(m2)))\n",
    "options(repr.plot.height = 4,repr.plot.width = 7)\n",
    "upset.p"
   ]
  }
 ],
 "metadata": {
  "kernelspec": {
   "display_name": "R4.2",
   "language": "R",
   "name": "ir42"
  },
  "language_info": {
   "codemirror_mode": "r",
   "file_extension": ".r",
   "mimetype": "text/x-r-source",
   "name": "R",
   "pygments_lexer": "r",
   "version": "4.2.2"
  }
 },
 "nbformat": 4,
 "nbformat_minor": 5
}
