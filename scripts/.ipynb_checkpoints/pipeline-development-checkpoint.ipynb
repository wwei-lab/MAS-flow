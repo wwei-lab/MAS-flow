{
 "cells": [
  {
   "cell_type": "code",
   "execution_count": 88,
   "id": "9ba1ca73",
   "metadata": {},
   "outputs": [
    {
     "name": "stderr",
     "output_type": "stream",
     "text": [
      "Loading required package: GenomicRanges\n",
      "\n"
     ]
    }
   ],
   "source": [
    "library(Biostrings)\n",
    "library(dplyr)\n",
    "library(parallel)\n",
    "library(stringr)\n",
    "library(qs)\n",
    "library(Rsamtools)"
   ]
  },
  {
   "cell_type": "code",
   "execution_count": 39,
   "id": "bedf4b2b",
   "metadata": {},
   "outputs": [],
   "source": [
    "adapter_dir = \"../BGI_benchmark/BGI_data/\" # the directory of the adapter location\n",
    "max_mismatch = 2\n",
    "ncpus = 100\n",
    "fq = \"../BGI_benchmark/BGI_data/TB20003420-202401221650300_read.splitted.fasta.gz\"\n",
    "CIDadapterids = \"../data/adapterids.head.txt\"\n",
    "leftAdapter = \"CIDcapture\" # related to RNA(transcript) strand\n",
    "rightAdapter = \"CIDoligo\" # related to RNA(transcript) strand"
   ]
  },
  {
   "cell_type": "code",
   "execution_count": 24,
   "id": "8c89c829",
   "metadata": {},
   "outputs": [],
   "source": [
    "fqnames_file = paste0(fq,\".fqnames\")"
   ]
  },
  {
   "cell_type": "code",
   "execution_count": 26,
   "id": "f03b52a1",
   "metadata": {},
   "outputs": [],
   "source": [
    "# fqnames = read.table(fqnames_file,header = F) %>% pull(V1)\n",
    "\n",
    "# CIDadapterids = read.table(CIDadapterids,header = FALSE) %>% pull(V1)\n",
    "\n",
    "# mismatch_pattern = paste0(\".mismatch\",max_mismatch)\n",
    "\n",
    "CIDadapter.files = list.files(adapter_dir,\n",
    "                             pattern = paste0(\".*splitted.*.*\",mismatch_pattern,\".*qs\"),\n",
    "                            full.names = TRUE)\n",
    "\n",
    "adapter.list.mismatch = mclapply(CIDadapter.files,function(file){\n",
    "    df = as.data.frame(qread(file))\n",
    "    type2 = str_extract(file,pattern = paste(paste0(CIDadapterids,\".*\"),collapse=\"|\"))\n",
    "    type2 = str_replace(str_replace(type2,mismatch_pattern,\"\"),\".qs\",\"\")\n",
    "    df$type = type2\n",
    "    df = df %>% select(-group_name) %>% mutate(fqname = fqnames[group]) %>% select(-group)\n",
    "    return(df)\n",
    "},mc.cores=100)"
   ]
  },
  {
   "cell_type": "code",
   "execution_count": 30,
   "id": "e18ea124",
   "metadata": {},
   "outputs": [],
   "source": [
    "adaptertypes = str_replace(str_replace(str_extract(CIDadapter.files,pattern = paste(paste0(CIDadapterids,\".*\"),collapse=\"|\")),mismatch_pattern,\"\"),\".qs\",\"\")"
   ]
  },
  {
   "cell_type": "code",
   "execution_count": 79,
   "id": "9717a47a",
   "metadata": {},
   "outputs": [
    {
     "name": "stderr",
     "output_type": "stream",
     "text": [
      "Warning message in full_join(adapter_left_norc, adapter_right_norc, by = \"fqname\"):\n",
      "“\u001b[1m\u001b[22mDetected an unexpected many-to-many relationship between `x` and `y`.\n",
      "\u001b[36mℹ\u001b[39m Row 85 of `x` matches multiple rows in `y`.\n",
      "\u001b[36mℹ\u001b[39m Row 4 of `y` matches multiple rows in `x`.\n",
      "\u001b[36mℹ\u001b[39m If a many-to-many relationship is expected, set `relationship =\n",
      "  \"many-to-many\"` to silence this warning.”\n"
     ]
    }
   ],
   "source": [
    "adapter_left_norc = adapter.list.mismatch[[leftAdapter]]\n",
    "adapter_right_norc = adapter.list.mismatch[[rightAdapter]]\n",
    "adapter_norc = full_join(adapter_left_norc,adapter_right_norc,by = \"fqname\") %>% select(fqname,end.x,start.y)\n",
    "colnames(adapter_norc) = c(\"fqname\",\"start\",\"end\")\n",
    "adapter_norc$start = adapter_norc$start + 1\n",
    "adapter_norc$end = adapter_norc$end - 1\n",
    "adapter_norc$type = ifelse(is.na(adapter_norc$start),\"rightAdapter\",ifelse(is.na(adapter_norc$end),\"leftAdapter\",\"both\"))\n",
    "adapter_norc$start[which(is.na(adapter_norc$start))] = adapter_norc$end[which(is.na(adapter_norc$start))] - 24\n",
    "adapter_norc$end[which(is.na(adapter_norc$end))] = adapter_norc$start[which(is.na(adapter_norc$end))] + 24\n",
    "adapter_norc = adapter_norc %>% mutate(width = end - start + 1) %>% filter(width>=20 & width<=30)"
   ]
  },
  {
   "cell_type": "code",
   "execution_count": 78,
   "id": "2bdbac0d",
   "metadata": {},
   "outputs": [
    {
     "name": "stderr",
     "output_type": "stream",
     "text": [
      "Warning message in full_join(adapter_left_rc, adapter_right_rc, by = \"fqname\"):\n",
      "“\u001b[1m\u001b[22mDetected an unexpected many-to-many relationship between `x` and `y`.\n",
      "\u001b[36mℹ\u001b[39m Row 126 of `x` matches multiple rows in `y`.\n",
      "\u001b[36mℹ\u001b[39m Row 28 of `y` matches multiple rows in `x`.\n",
      "\u001b[36mℹ\u001b[39m If a many-to-many relationship is expected, set `relationship =\n",
      "  \"many-to-many\"` to silence this warning.”\n"
     ]
    }
   ],
   "source": [
    "adapter_left_rc = adapter.list.mismatch[[paste0(leftAdapter,\".rc\")]]\n",
    "adapter_right_rc = adapter.list.mismatch[[paste0(rightAdapter,\".rc\")]]\n",
    "adapter_rc = full_join(adapter_left_rc,adapter_right_rc,by = \"fqname\") %>% select(fqname,start.x,end.y)\n",
    "colnames(adapter_rc) = c(\"fqname\",\"end\",\"start\")\n",
    "adapter_rc$end = adapter_rc$end - 1\n",
    "adapter_rc$start = adapter_rc$start + 1\n",
    "adapter_rc$type = ifelse(is.na(adapter_rc$start),\"leftAdapterRC\",ifelse(is.na(adapter_rc$end),\"rightAdapterRC\",\"bothRC\"))\n",
    "adapter_rc$start[which(is.na(adapter_rc$start))] = adapter_rc$end[which(is.na(adapter_rc$start))] - 24\n",
    "adapter_rc$end[which(is.na(adapter_rc$end))] = adapter_rc$start[which(is.na(adapter_rc$end))] + 24\n",
    "adapter_rc = adapter_rc %>% mutate(width = end - start + 1) %>% filter(width>=20 & width<=30)\n",
    "CID_loc = bind_rows(adapter_norc,adapter_rc)"
   ]
  },
  {
   "cell_type": "code",
   "execution_count": 198,
   "id": "31c6319d",
   "metadata": {
    "scrolled": true
   },
   "outputs": [
    {
     "ename": "ERROR",
     "evalue": "Error in parse(text = x, srcfile = src): <text>:41:20: unexpected INCOMPLETE_STRING\n48: \n49: }\n                       ^\n",
     "output_type": "error",
     "traceback": [
      "Error in parse(text = x, srcfile = src): <text>:41:20: unexpected INCOMPLETE_STRING\n48: \n49: }\n                       ^\nTraceback:\n"
     ]
    }
   ],
   "source": [
    "args = commandArgs(trailingOnly = TRUE)\n",
    "bam = args[1]\n",
    "outdir = args[2]\n",
    "Q = args[3]\n",
    "\n",
    "readBam <- function(bamfile,chunk) {\n",
    "\n",
    "    bf <- open(BamFile(bamfile,\n",
    "                       yieldSize=chunk))\n",
    "    para = ScanBamParam(flag = scanBamFlag(isSecondaryAlignment = FALSE),\n",
    "                        what = c('qname','flag','rname','strand','pos','qwidth','mapq',\n",
    "                                                                                  'cigar','mrnm','mpos','isize','seq','qual'))\n",
    "    while (TRUE){\n",
    "        bam = scanBam(bf,param = para)[[1]]\n",
    "        if(length(bam[[1]]) == 0)\n",
    "          break\n",
    "        count = count + chunk\n",
    "        cat(\"processing:\", count, \"\\n\")\n",
    "        ops <- c(\"M\",\"I\",\"S\",\"H\")\n",
    "        widths <- GenomicAlignments::explodeCigarOpLengths(bam[[\"cigar\"]], ops = ops)\n",
    "        keep.ops <- GenomicAlignments::explodeCigarOps(bam[[\"cigar\"]], ops = ops)\n",
    "\n",
    "        leftmostcigar = sapply(keep.ops,`[`,1)\n",
    "        rightmostcigar = sapply(keep.ops,tail,1)\n",
    "        leftmoststep = sapply(widths,`[`,1)\n",
    "        rightmoststep = sapply(widths,tail,1)  \n",
    "\n",
    "        clips = data.frame(leftmostcigar = leftmostcigar,rightmostcigar = rightmostcigar,\n",
    "                            leftmoststep = leftmoststep,rightmoststep = rightmoststep)\n",
    "        clips = clips %>% mutate(leftmoststep = ifelse(grepl(leftmostcigar,pattern = \"S|H\"),leftmoststep,0),\n",
    "                                rightmoststep = ifelse(grepl(rightmostcigar,pattern = \"S|H\"),rightmoststep,0))\n",
    "        clips$qname = bam[[\"qname\"]]\n",
    "        clips$qlen = sapply(widths,sum)\n",
    "        clips$strand = bam[[\"strand\"]]\n",
    "        clips = clips %>% mutate(qstart = ifelse(strand == \"+\",leftmoststep+1,rightmoststep+1))\n",
    "        clips = clips %>% mutate(qend = ifelse(strand == \"+\",qlen -rightmoststep,qlen - leftmoststep))\n",
    "\n",
    "        clips = clips %>% left_join(CID_loc,by = c(\"qname\" = \"fqname\")) %>% filter(!is.na(start))\n",
    "        \n",
    "        \n",
    "  }\n",
    "}"
   ]
  },
  {
   "cell_type": "code",
   "execution_count": 216,
   "id": "c19ed966",
   "metadata": {},
   "outputs": [],
   "source": [
    "\n",
    "ops <- c(\"M\",\"I\",\"S\",\"H\")\n",
    "\n",
    "bam = scanBam(bf,param = para)[[1]]`"
   ]
  },
  {
   "cell_type": "code",
   "execution_count": 292,
   "id": "f256166d",
   "metadata": {
    "scrolled": false
   },
   "outputs": [
    {
     "name": "stderr",
     "output_type": "stream",
     "text": [
      "Warning message in left_join(., CID_loc, by = c(qname = \"fqname\")):\n",
      "“\u001b[1m\u001b[22mDetected an unexpected many-to-many relationship between `x` and `y`.\n",
      "\u001b[36mℹ\u001b[39m Row 5 of `x` matches multiple rows in `y`.\n",
      "\u001b[36mℹ\u001b[39m Row 1161260 of `y` matches multiple rows in `x`.\n",
      "\u001b[36mℹ\u001b[39m If a many-to-many relationship is expected, set `relationship =\n",
      "  \"many-to-many\"` to silence this warning.”\n"
     ]
    }
   ],
   "source": [
    "\n",
    "\n",
    "# CID.gr = GRanges(seqnames = clips$qname,ranges = IRanges(start = clips$start,end = clips$end,type = clips$type))\n",
    "# aln.gr = GRanges(seqnames = clips$qname,ranges = IRanges(start = clips$qstart,end = clips$qend))\n",
    "\n",
    "# keep = which(distance(CID.gr,aln.gr) <= 100)\n",
    "\n",
    "# CID.gr = CID.gr[keep]\n",
    "# aln.gr = aln.gr[keep]\n",
    "\n",
    "clips = clips %>% mutate(distance = ifelse(grepl(pattern = \"RC\",type),qstart - end - 1,start - qend - 1)) %>% \n",
    "mutate(distance2 = abs(distance - 50))\n",
    " \n",
    "#for each alignment we select an CID\n",
    "clips = clips %>% group_by(qname,qstart,qend) %>% filter(distance2 == min(distance2)) %>% filter(distance2 <= 80)"
   ]
  },
  {
   "cell_type": "code",
   "execution_count": 283,
   "id": "12978aca",
   "metadata": {},
   "outputs": [
    {
     "data": {
      "text/html": [
       "<table class=\"dataframe\">\n",
       "<caption>A grouped_df: 2 × 15</caption>\n",
       "<thead>\n",
       "\t<tr><th scope=col>leftmostcigar</th><th scope=col>rightmostcigar</th><th scope=col>leftmoststep</th><th scope=col>rightmoststep</th><th scope=col>qname</th><th scope=col>qlen</th><th scope=col>strand</th><th scope=col>qstart</th><th scope=col>qend</th><th scope=col>start</th><th scope=col>end</th><th scope=col>type</th><th scope=col>width</th><th scope=col>distance</th><th scope=col>distance2</th></tr>\n",
       "\t<tr><th scope=col>&lt;chr&gt;</th><th scope=col>&lt;chr&gt;</th><th scope=col>&lt;dbl&gt;</th><th scope=col>&lt;dbl&gt;</th><th scope=col>&lt;chr&gt;</th><th scope=col>&lt;int&gt;</th><th scope=col>&lt;fct&gt;</th><th scope=col>&lt;dbl&gt;</th><th scope=col>&lt;dbl&gt;</th><th scope=col>&lt;dbl&gt;</th><th scope=col>&lt;dbl&gt;</th><th scope=col>&lt;chr&gt;</th><th scope=col>&lt;dbl&gt;</th><th scope=col>&lt;dbl&gt;</th><th scope=col>&lt;dbl&gt;</th></tr>\n",
       "</thead>\n",
       "<tbody>\n",
       "\t<tr><td>S</td><td>S</td><td>75</td><td>567</td><td>TB20003420-202401221650300_20240123010533_00934_027906972-7;st_ed:A:4197-5489;AD:A:adapterF.rc-adapterF;AP:A:RC-Identical</td><td>1293</td><td>+</td><td> 76</td><td> 726</td><td>  20</td><td>  45</td><td>bothRC</td><td>26</td><td>30</td><td>20</td></tr>\n",
       "\t<tr><td>H</td><td>H</td><td>75</td><td>742</td><td>TB20003420-202401221650300_20240123010533_00934_027906972-7;st_ed:A:4197-5489;AD:A:adapterF.rc-adapterF;AP:A:RC-Identical</td><td>1293</td><td>-</td><td>743</td><td>1218</td><td>1249</td><td>1273</td><td>both  </td><td>25</td><td>30</td><td>20</td></tr>\n",
       "</tbody>\n",
       "</table>\n"
      ],
      "text/latex": [
       "A grouped\\_df: 2 × 15\n",
       "\\begin{tabular}{lllllllllllllll}\n",
       " leftmostcigar & rightmostcigar & leftmoststep & rightmoststep & qname & qlen & strand & qstart & qend & start & end & type & width & distance & distance2\\\\\n",
       " <chr> & <chr> & <dbl> & <dbl> & <chr> & <int> & <fct> & <dbl> & <dbl> & <dbl> & <dbl> & <chr> & <dbl> & <dbl> & <dbl>\\\\\n",
       "\\hline\n",
       "\t S & S & 75 & 567 & TB20003420-202401221650300\\_20240123010533\\_00934\\_027906972-7;st\\_ed:A:4197-5489;AD:A:adapterF.rc-adapterF;AP:A:RC-Identical & 1293 & + &  76 &  726 &   20 &   45 & bothRC & 26 & 30 & 20\\\\\n",
       "\t H & H & 75 & 742 & TB20003420-202401221650300\\_20240123010533\\_00934\\_027906972-7;st\\_ed:A:4197-5489;AD:A:adapterF.rc-adapterF;AP:A:RC-Identical & 1293 & - & 743 & 1218 & 1249 & 1273 & both   & 25 & 30 & 20\\\\\n",
       "\\end{tabular}\n"
      ],
      "text/markdown": [
       "\n",
       "A grouped_df: 2 × 15\n",
       "\n",
       "| leftmostcigar &lt;chr&gt; | rightmostcigar &lt;chr&gt; | leftmoststep &lt;dbl&gt; | rightmoststep &lt;dbl&gt; | qname &lt;chr&gt; | qlen &lt;int&gt; | strand &lt;fct&gt; | qstart &lt;dbl&gt; | qend &lt;dbl&gt; | start &lt;dbl&gt; | end &lt;dbl&gt; | type &lt;chr&gt; | width &lt;dbl&gt; | distance &lt;dbl&gt; | distance2 &lt;dbl&gt; |\n",
       "|---|---|---|---|---|---|---|---|---|---|---|---|---|---|---|\n",
       "| S | S | 75 | 567 | TB20003420-202401221650300_20240123010533_00934_027906972-7;st_ed:A:4197-5489;AD:A:adapterF.rc-adapterF;AP:A:RC-Identical | 1293 | + |  76 |  726 |   20 |   45 | bothRC | 26 | 30 | 20 |\n",
       "| H | H | 75 | 742 | TB20003420-202401221650300_20240123010533_00934_027906972-7;st_ed:A:4197-5489;AD:A:adapterF.rc-adapterF;AP:A:RC-Identical | 1293 | - | 743 | 1218 | 1249 | 1273 | both   | 25 | 30 | 20 |\n",
       "\n"
      ],
      "text/plain": [
       "  leftmostcigar rightmostcigar leftmoststep rightmoststep\n",
       "1 S             S              75           567          \n",
       "2 H             H              75           742          \n",
       "  qname                                                                                                                    \n",
       "1 TB20003420-202401221650300_20240123010533_00934_027906972-7;st_ed:A:4197-5489;AD:A:adapterF.rc-adapterF;AP:A:RC-Identical\n",
       "2 TB20003420-202401221650300_20240123010533_00934_027906972-7;st_ed:A:4197-5489;AD:A:adapterF.rc-adapterF;AP:A:RC-Identical\n",
       "  qlen strand qstart qend start end  type   width distance distance2\n",
       "1 1293 +       76     726   20    45 bothRC 26    30       20       \n",
       "2 1293 -      743    1218 1249  1273 both   25    30       20       "
      ]
     },
     "metadata": {},
     "output_type": "display_data"
    }
   ],
   "source": [
    "clips %>% filter(qname == \"TB20003420-202401221650300_20240123010533_00934_027906972-7;st_ed:A:4197-5489;AD:A:adapterF.rc-adapterF;AP:A:RC-Identical\")"
   ]
  },
  {
   "cell_type": "code",
   "execution_count": 117,
   "id": "cc5b4d3d",
   "metadata": {},
   "outputs": [],
   "source": [
    "bf <- open(BamFile(\"../alignments/FAX23635_pass_12b693ce_c74c2dc4.fastq.sorted.bam\", yieldSize=10000))\n",
    "para = ScanBamParam(flag = scanBamFlag(isSecondaryAlignment = FALSE),what = c('qname','flag','rname','strand','pos','qwidth','mapq',\n",
    "                                                                              'cigar','mrnm','mpos','isize','seq','qual'))\n",
    "bam = scanBam(bf,param = para)[[1]]"
   ]
  },
  {
   "cell_type": "code",
   "execution_count": 127,
   "id": "e205de22",
   "metadata": {},
   "outputs": [
    {
     "data": {
      "text/plain": [
       "Time difference of 0.03146696 secs"
      ]
     },
     "metadata": {},
     "output_type": "display_data"
    }
   ],
   "source": [
    "start_time <- Sys.time()\n",
    "a = GenomicAlignments::explodeCigarOpLengths(bam[[\"cigar\"]], ops = c(\"M\",\"I\",\"S\",\"H\"))\n",
    "end_time <- Sys.time()\n",
    "end_time - start_time"
   ]
  },
  {
   "cell_type": "code",
   "execution_count": 131,
   "id": "847d868c",
   "metadata": {},
   "outputs": [],
   "source": [
    "b = GenomicAlignments::explodeCigarOps(bam[[\"cigar\"]], ops = c(\"M\",\"I\",\"S\",\"H\"))"
   ]
  },
  {
   "cell_type": "code",
   "execution_count": 135,
   "id": "1b936762",
   "metadata": {},
   "outputs": [],
   "source": [
    "explodedcigars <- IRanges::CharacterList(relist(paste0(unlist(a), \n",
    "                                                         unlist(b)), a))"
   ]
  },
  {
   "cell_type": "code",
   "execution_count": 139,
   "id": "fcaf9bcb",
   "metadata": {},
   "outputs": [],
   "source": [
    "c = sapply(b,tail,1)"
   ]
  },
  {
   "cell_type": "code",
   "execution_count": 141,
   "id": "ae57c04d",
   "metadata": {},
   "outputs": [
    {
     "data": {
      "text/html": [
       "<style>\n",
       ".list-inline {list-style: none; margin:0; padding: 0}\n",
       ".list-inline>li {display: inline-block}\n",
       ".list-inline>li:not(:last-child)::after {content: \"\\00b7\"; padding: 0 .5ex}\n",
       "</style>\n",
       "<ol class=list-inline><li>'qname'</li><li>'flag'</li><li>'rname'</li><li>'strand'</li><li>'pos'</li><li>'qwidth'</li><li>'mapq'</li><li>'cigar'</li><li>'mrnm'</li><li>'mpos'</li><li>'isize'</li><li>'seq'</li><li>'qual'</li></ol>\n"
      ],
      "text/latex": [
       "\\begin{enumerate*}\n",
       "\\item 'qname'\n",
       "\\item 'flag'\n",
       "\\item 'rname'\n",
       "\\item 'strand'\n",
       "\\item 'pos'\n",
       "\\item 'qwidth'\n",
       "\\item 'mapq'\n",
       "\\item 'cigar'\n",
       "\\item 'mrnm'\n",
       "\\item 'mpos'\n",
       "\\item 'isize'\n",
       "\\item 'seq'\n",
       "\\item 'qual'\n",
       "\\end{enumerate*}\n"
      ],
      "text/markdown": [
       "1. 'qname'\n",
       "2. 'flag'\n",
       "3. 'rname'\n",
       "4. 'strand'\n",
       "5. 'pos'\n",
       "6. 'qwidth'\n",
       "7. 'mapq'\n",
       "8. 'cigar'\n",
       "9. 'mrnm'\n",
       "10. 'mpos'\n",
       "11. 'isize'\n",
       "12. 'seq'\n",
       "13. 'qual'\n",
       "\n",
       "\n"
      ],
      "text/plain": [
       " [1] \"qname\"  \"flag\"   \"rname\"  \"strand\" \"pos\"    \"qwidth\" \"mapq\"   \"cigar\" \n",
       " [9] \"mrnm\"   \"mpos\"   \"isize\"  \"seq\"    \"qual\"  "
      ]
     },
     "metadata": {},
     "output_type": "display_data"
    }
   ],
   "source": [
    "names(bam)"
   ]
  },
  {
   "cell_type": "code",
   "execution_count": 144,
   "id": "51b17331",
   "metadata": {},
   "outputs": [
    {
     "data": {
      "text/html": [
       "<style>\n",
       ".list-inline {list-style: none; margin:0; padding: 0}\n",
       ".list-inline>li {display: inline-block}\n",
       ".list-inline>li:not(:last-child)::after {content: \"\\00b7\"; padding: 0 .5ex}\n",
       "</style>\n",
       "<ol class=list-inline><li>+</li><li>+</li><li>-</li><li>-</li><li>-</li><li>+</li></ol>\n",
       "\n",
       "<details>\n",
       "\t<summary style=display:list-item;cursor:pointer>\n",
       "\t\t<strong>Levels</strong>:\n",
       "\t</summary>\n",
       "\t<style>\n",
       "\t.list-inline {list-style: none; margin:0; padding: 0}\n",
       "\t.list-inline>li {display: inline-block}\n",
       "\t.list-inline>li:not(:last-child)::after {content: \"\\00b7\"; padding: 0 .5ex}\n",
       "\t</style>\n",
       "\t<ol class=list-inline><li>'+'</li><li>'-'</li><li>'*'</li></ol>\n",
       "</details>"
      ],
      "text/latex": [
       "\\begin{enumerate*}\n",
       "\\item +\n",
       "\\item +\n",
       "\\item -\n",
       "\\item -\n",
       "\\item -\n",
       "\\item +\n",
       "\\end{enumerate*}\n",
       "\n",
       "\\emph{Levels}: \\begin{enumerate*}\n",
       "\\item '+'\n",
       "\\item '-'\n",
       "\\item '*'\n",
       "\\end{enumerate*}\n"
      ],
      "text/markdown": [
       "1. +\n",
       "2. +\n",
       "3. -\n",
       "4. -\n",
       "5. -\n",
       "6. +\n",
       "\n",
       "\n",
       "\n",
       "**Levels**: 1. '+'\n",
       "2. '-'\n",
       "3. '*'\n",
       "\n",
       "\n"
      ],
      "text/plain": [
       "[1] + + - - - +\n",
       "Levels: + - *"
      ]
     },
     "metadata": {},
     "output_type": "display_data"
    }
   ],
   "source": [
    "head(bam[[\"strand\"]])"
   ]
  },
  {
   "cell_type": "code",
   "execution_count": 298,
   "id": "f0aaa129",
   "metadata": {},
   "outputs": [],
   "source": [
    "library(vroom)"
   ]
  },
  {
   "cell_type": "code",
   "execution_count": null,
   "id": "4de78464",
   "metadata": {},
   "outputs": [],
   "source": [
    "CID_loc = vroom(\"../BGI_benchmark/BGI_data/CID_loc.tsv\")\n",
    "aln_pd  = vroom(\"../BGI_benchmark/BGI_data/qname_CID.tsv\",delim = \"\\t\",col_names = F)\n",
    "colnames(aln_pd) = c(\"raw_name\",\"new_name\",\"qstart\",\"qend\")"
   ]
  },
  {
   "cell_type": "code",
   "execution_count": null,
   "id": "93e40527",
   "metadata": {},
   "outputs": [],
   "source": [
    "aln_pd = CID_loc %>% left_join(CID_loc,by = c(\"raw_name\"))"
   ]
  },
  {
   "cell_type": "code",
   "execution_count": null,
   "id": "28ed8b11",
   "metadata": {},
   "outputs": [],
   "source": [
    "aln_pd2 = aln_pd.merge(CID_loc,how = \"left\",left_on = \"raw_name\",right_on = \"fqname\")\n",
    "types = aln_pd2[\"type\"].to_numpy().astype(\"str\")\n",
    "qstart = aln_pd2[\"qstart\"].to_numpy()\n",
    "qend = aln_pd2[\"qend\"].to_numpy()\n",
    "start = aln_pd2[\"start\"].to_numpy()\n",
    "end = aln_pd2[\"end\"].to_numpy()\n",
    "aln_pd2[\"distance\"] =  np.where(if_substring(types,\"RC\"),qstart - end - 1,start - qend -1)\n",
    "aln_pd2[\"distance2\"] = abs(aln_pd2[\"distance\"] - 50)\n",
    "aln_pd2 = aln_pd2[aln_pd2['distance2'] == aln_pd2.groupby('new_name')['distance2'].transform('min')]\n",
    "aln_pd2 = aln_pd2[aln_pd2[\"distance2\"]<=80]"
   ]
  }
 ],
 "metadata": {
  "kernelspec": {
   "display_name": "R4.2",
   "language": "R",
   "name": "ir42"
  },
  "language_info": {
   "codemirror_mode": "r",
   "file_extension": ".r",
   "mimetype": "text/x-r-source",
   "name": "R",
   "pygments_lexer": "r",
   "version": "4.2.2"
  }
 },
 "nbformat": 4,
 "nbformat_minor": 5
}
